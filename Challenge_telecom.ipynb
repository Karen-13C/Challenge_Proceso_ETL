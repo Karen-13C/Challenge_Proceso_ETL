{
 "cells": [
  {
   "cell_type": "markdown",
   "id": "4f1a8ce1",
   "metadata": {},
   "source": [
    "# 1. Información inicial"
   ]
  },
  {
   "cell_type": "markdown",
   "id": "ba7f1138",
   "metadata": {},
   "source": [
    "**Challenge Telecom X**\n",
    "\n",
    "Análisis de evasión de clientes (Churn de clientes)\n",
    "\n",
    "**Objetivo:**\n",
    "\n",
    "Buscar, tratar y realizar un análisis exploratorio de los datos de la empresa. Es decir, todo el proceso ETL.\n",
    "\n"
   ]
  },
  {
   "cell_type": "markdown",
   "id": "de6d2bac",
   "metadata": {},
   "source": [
    "# 2. Extracción"
   ]
  },
  {
   "cell_type": "markdown",
   "id": "b2edf8da",
   "metadata": {},
   "source": [
    "# 3. Transformación"
   ]
  },
  {
   "cell_type": "markdown",
   "id": "e05573fa",
   "metadata": {},
   "source": [
    "# 4. Carga y análisis"
   ]
  },
  {
   "cell_type": "markdown",
   "id": "f106600f",
   "metadata": {},
   "source": [
    "# 5. Informe final"
   ]
  }
 ],
 "metadata": {
  "language_info": {
   "name": "python"
  }
 },
 "nbformat": 4,
 "nbformat_minor": 5
}
