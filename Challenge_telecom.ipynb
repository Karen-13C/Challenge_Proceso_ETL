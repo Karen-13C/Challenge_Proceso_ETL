{
 "cells": [
  {
   "cell_type": "markdown",
   "id": "4f1a8ce1",
   "metadata": {},
   "source": [
    "# 1. Información inicial"
   ]
  },
  {
   "cell_type": "markdown",
   "id": "ba7f1138",
   "metadata": {},
   "source": [
    "**Challenge Telecom X**\n",
    "\n",
    "Análisis de evasión de clientes (Churn de clientes)\n",
    "\n",
    "**Objetivo:**\n",
    "\n",
    "Buscar, tratar y realizar un análisis exploratorio de los datos de la empresa. Es decir, todo el proceso ETL.\n",
    "\n"
   ]
  },
  {
   "cell_type": "markdown",
   "id": "de6d2bac",
   "metadata": {},
   "source": [
    "# 2. Extracción"
   ]
  },
  {
   "cell_type": "code",
   "execution_count": 1,
   "id": "bc619635",
   "metadata": {},
   "outputs": [],
   "source": [
    "import requests\n",
    "import pandas as pd\n",
    "import matplotlib.pyplot as plt\n",
    "import numpy as np\n",
    "import seaborn as sns"
   ]
  },
  {
   "cell_type": "markdown",
   "id": "81ac2817",
   "metadata": {},
   "source": [
    "## 2.1 Carga archivo json desde API"
   ]
  },
  {
   "cell_type": "code",
   "execution_count": 2,
   "id": "e9232a30",
   "metadata": {},
   "outputs": [
    {
     "data": {
      "text/html": [
       "<div>\n",
       "<style scoped>\n",
       "    .dataframe tbody tr th:only-of-type {\n",
       "        vertical-align: middle;\n",
       "    }\n",
       "\n",
       "    .dataframe tbody tr th {\n",
       "        vertical-align: top;\n",
       "    }\n",
       "\n",
       "    .dataframe thead th {\n",
       "        text-align: right;\n",
       "    }\n",
       "</style>\n",
       "<table border=\"1\" class=\"dataframe\">\n",
       "  <thead>\n",
       "    <tr style=\"text-align: right;\">\n",
       "      <th></th>\n",
       "      <th>customerID</th>\n",
       "      <th>Churn</th>\n",
       "      <th>gender</th>\n",
       "      <th>SeniorCitizen</th>\n",
       "      <th>Partner</th>\n",
       "      <th>Dependents</th>\n",
       "      <th>tenure</th>\n",
       "      <th>PhoneService</th>\n",
       "      <th>MultipleLines</th>\n",
       "      <th>InternetService</th>\n",
       "      <th>...</th>\n",
       "      <th>OnlineBackup</th>\n",
       "      <th>DeviceProtection</th>\n",
       "      <th>TechSupport</th>\n",
       "      <th>StreamingTV</th>\n",
       "      <th>StreamingMovies</th>\n",
       "      <th>Contract</th>\n",
       "      <th>PaperlessBilling</th>\n",
       "      <th>PaymentMethod</th>\n",
       "      <th>Monthly</th>\n",
       "      <th>Total</th>\n",
       "    </tr>\n",
       "  </thead>\n",
       "  <tbody>\n",
       "    <tr>\n",
       "      <th>0</th>\n",
       "      <td>0002-ORFBO</td>\n",
       "      <td>No</td>\n",
       "      <td>Female</td>\n",
       "      <td>0</td>\n",
       "      <td>Yes</td>\n",
       "      <td>Yes</td>\n",
       "      <td>9</td>\n",
       "      <td>Yes</td>\n",
       "      <td>No</td>\n",
       "      <td>DSL</td>\n",
       "      <td>...</td>\n",
       "      <td>Yes</td>\n",
       "      <td>No</td>\n",
       "      <td>Yes</td>\n",
       "      <td>Yes</td>\n",
       "      <td>No</td>\n",
       "      <td>One year</td>\n",
       "      <td>Yes</td>\n",
       "      <td>Mailed check</td>\n",
       "      <td>65.6</td>\n",
       "      <td>593.3</td>\n",
       "    </tr>\n",
       "    <tr>\n",
       "      <th>1</th>\n",
       "      <td>0003-MKNFE</td>\n",
       "      <td>No</td>\n",
       "      <td>Male</td>\n",
       "      <td>0</td>\n",
       "      <td>No</td>\n",
       "      <td>No</td>\n",
       "      <td>9</td>\n",
       "      <td>Yes</td>\n",
       "      <td>Yes</td>\n",
       "      <td>DSL</td>\n",
       "      <td>...</td>\n",
       "      <td>No</td>\n",
       "      <td>No</td>\n",
       "      <td>No</td>\n",
       "      <td>No</td>\n",
       "      <td>Yes</td>\n",
       "      <td>Month-to-month</td>\n",
       "      <td>No</td>\n",
       "      <td>Mailed check</td>\n",
       "      <td>59.9</td>\n",
       "      <td>542.4</td>\n",
       "    </tr>\n",
       "    <tr>\n",
       "      <th>2</th>\n",
       "      <td>0004-TLHLJ</td>\n",
       "      <td>Yes</td>\n",
       "      <td>Male</td>\n",
       "      <td>0</td>\n",
       "      <td>No</td>\n",
       "      <td>No</td>\n",
       "      <td>4</td>\n",
       "      <td>Yes</td>\n",
       "      <td>No</td>\n",
       "      <td>Fiber optic</td>\n",
       "      <td>...</td>\n",
       "      <td>No</td>\n",
       "      <td>Yes</td>\n",
       "      <td>No</td>\n",
       "      <td>No</td>\n",
       "      <td>No</td>\n",
       "      <td>Month-to-month</td>\n",
       "      <td>Yes</td>\n",
       "      <td>Electronic check</td>\n",
       "      <td>73.9</td>\n",
       "      <td>280.85</td>\n",
       "    </tr>\n",
       "    <tr>\n",
       "      <th>3</th>\n",
       "      <td>0011-IGKFF</td>\n",
       "      <td>Yes</td>\n",
       "      <td>Male</td>\n",
       "      <td>1</td>\n",
       "      <td>Yes</td>\n",
       "      <td>No</td>\n",
       "      <td>13</td>\n",
       "      <td>Yes</td>\n",
       "      <td>No</td>\n",
       "      <td>Fiber optic</td>\n",
       "      <td>...</td>\n",
       "      <td>Yes</td>\n",
       "      <td>Yes</td>\n",
       "      <td>No</td>\n",
       "      <td>Yes</td>\n",
       "      <td>Yes</td>\n",
       "      <td>Month-to-month</td>\n",
       "      <td>Yes</td>\n",
       "      <td>Electronic check</td>\n",
       "      <td>98.0</td>\n",
       "      <td>1237.85</td>\n",
       "    </tr>\n",
       "    <tr>\n",
       "      <th>4</th>\n",
       "      <td>0013-EXCHZ</td>\n",
       "      <td>Yes</td>\n",
       "      <td>Female</td>\n",
       "      <td>1</td>\n",
       "      <td>Yes</td>\n",
       "      <td>No</td>\n",
       "      <td>3</td>\n",
       "      <td>Yes</td>\n",
       "      <td>No</td>\n",
       "      <td>Fiber optic</td>\n",
       "      <td>...</td>\n",
       "      <td>No</td>\n",
       "      <td>No</td>\n",
       "      <td>Yes</td>\n",
       "      <td>Yes</td>\n",
       "      <td>No</td>\n",
       "      <td>Month-to-month</td>\n",
       "      <td>Yes</td>\n",
       "      <td>Mailed check</td>\n",
       "      <td>83.9</td>\n",
       "      <td>267.4</td>\n",
       "    </tr>\n",
       "  </tbody>\n",
       "</table>\n",
       "<p>5 rows × 21 columns</p>\n",
       "</div>"
      ],
      "text/plain": [
       "   customerID Churn  gender  SeniorCitizen Partner Dependents  tenure  \\\n",
       "0  0002-ORFBO    No  Female              0     Yes        Yes       9   \n",
       "1  0003-MKNFE    No    Male              0      No         No       9   \n",
       "2  0004-TLHLJ   Yes    Male              0      No         No       4   \n",
       "3  0011-IGKFF   Yes    Male              1     Yes         No      13   \n",
       "4  0013-EXCHZ   Yes  Female              1     Yes         No       3   \n",
       "\n",
       "  PhoneService MultipleLines InternetService  ... OnlineBackup  \\\n",
       "0          Yes            No             DSL  ...          Yes   \n",
       "1          Yes           Yes             DSL  ...           No   \n",
       "2          Yes            No     Fiber optic  ...           No   \n",
       "3          Yes            No     Fiber optic  ...          Yes   \n",
       "4          Yes            No     Fiber optic  ...           No   \n",
       "\n",
       "  DeviceProtection TechSupport StreamingTV StreamingMovies        Contract  \\\n",
       "0               No         Yes         Yes              No        One year   \n",
       "1               No          No          No             Yes  Month-to-month   \n",
       "2              Yes          No          No              No  Month-to-month   \n",
       "3              Yes          No         Yes             Yes  Month-to-month   \n",
       "4               No         Yes         Yes              No  Month-to-month   \n",
       "\n",
       "  PaperlessBilling     PaymentMethod Monthly    Total  \n",
       "0              Yes      Mailed check    65.6    593.3  \n",
       "1               No      Mailed check    59.9    542.4  \n",
       "2              Yes  Electronic check    73.9   280.85  \n",
       "3              Yes  Electronic check    98.0  1237.85  \n",
       "4              Yes      Mailed check    83.9    267.4  \n",
       "\n",
       "[5 rows x 21 columns]"
      ]
     },
     "execution_count": 2,
     "metadata": {},
     "output_type": "execute_result"
    }
   ],
   "source": [
    "url = \"https://raw.githubusercontent.com/ingridcristh/challenge2-data-science-LATAM/refs/heads/main/TelecomX_Data.json\"\n",
    "response = requests.get(url)\n",
    "\n",
    "telecom = response.json() \n",
    "telecom = pd.json_normalize(telecom, sep='_')\n",
    "# Quita los prefijos: customer_, phone_, etc.\n",
    "telecom.columns = [col.split('_')[-1] for col in telecom.columns]\n",
    "\n",
    "df_telecom = pd.DataFrame(telecom)\n",
    "df_telecom.head(5)"
   ]
  },
  {
   "cell_type": "markdown",
   "id": "7a9cfde6",
   "metadata": {},
   "source": [
    "## 2.2 Revisa nulos"
   ]
  },
  {
   "cell_type": "code",
   "execution_count": 3,
   "id": "26603a77",
   "metadata": {},
   "outputs": [
    {
     "data": {
      "text/plain": [
       "customerID          0\n",
       "Churn               0\n",
       "gender              0\n",
       "SeniorCitizen       0\n",
       "Partner             0\n",
       "Dependents          0\n",
       "tenure              0\n",
       "PhoneService        0\n",
       "MultipleLines       0\n",
       "InternetService     0\n",
       "OnlineSecurity      0\n",
       "OnlineBackup        0\n",
       "DeviceProtection    0\n",
       "TechSupport         0\n",
       "StreamingTV         0\n",
       "StreamingMovies     0\n",
       "Contract            0\n",
       "PaperlessBilling    0\n",
       "PaymentMethod       0\n",
       "Monthly             0\n",
       "Total               0\n",
       "dtype: int64"
      ]
     },
     "execution_count": 3,
     "metadata": {},
     "output_type": "execute_result"
    }
   ],
   "source": [
    "df_telecom.isna().sum()"
   ]
  },
  {
   "cell_type": "markdown",
   "id": "b2edf8da",
   "metadata": {},
   "source": [
    "# 3. Transformación"
   ]
  },
  {
   "cell_type": "markdown",
   "id": "4c12908c",
   "metadata": {},
   "source": [
    "## 3.1 Tipos de datos del conjunto"
   ]
  },
  {
   "cell_type": "markdown",
   "id": "a1e1fd80",
   "metadata": {},
   "source": [
    "### Diccionario de datos\n",
    "\n",
    "- `customerID`: número de identificación único de cada cliente\n",
    "- `Churn`: si el cliente dejó o no la empresa\n",
    "- `gender`: género (masculino y femenino)\n",
    "- `SeniorCitizen`: información sobre si un cliente tiene o no una edad igual o mayor a 65 años\n",
    "- `Partner`: si el cliente tiene o no una pareja\n",
    "- `Dependents`: si el cliente tiene o no dependientes\n",
    "- `tenure`: meses de contrato del cliente\n",
    "- `PhoneService`: suscripción al servicio telefónico\n",
    "- `MultipleLines`: suscripción a más de una línea telefónica\n",
    "- `InternetService`: suscripción a un proveedor de internet\n",
    "- `OnlineSecurity`: suscripción adicional de seguridad en línea\n",
    "- `OnlineBackup`: suscripción adicional de respaldo en línea\n",
    "- `DeviceProtection`: suscripción adicional de protección del dispositivo\n",
    "- `TechSupport`: suscripción adicional de soporte técnico, menor tiempo de espera\n",
    "- `StreamingTV`: suscripción de televisión por cable\n",
    "- `StreamingMovies`: suscripción de streaming de películas\n",
    "- `Contract`: tipo de contrato\n",
    "- `PaperlessBilling`: si el cliente prefiere recibir la factura en línea\n",
    "- `PaymentMethod`: forma de pago\n",
    "- `Charges.Monthly`: total de todos los servicios del cliente por mes\n",
    "- `Charges.Total`: total gastado por el cliente"
   ]
  },
  {
   "cell_type": "code",
   "execution_count": 4,
   "id": "b9974cd1",
   "metadata": {},
   "outputs": [
    {
     "name": "stdout",
     "output_type": "stream",
     "text": [
      "<class 'pandas.core.frame.DataFrame'>\n",
      "RangeIndex: 7267 entries, 0 to 7266\n",
      "Data columns (total 21 columns):\n",
      " #   Column            Non-Null Count  Dtype  \n",
      "---  ------            --------------  -----  \n",
      " 0   customerID        7267 non-null   object \n",
      " 1   Churn             7267 non-null   object \n",
      " 2   gender            7267 non-null   object \n",
      " 3   SeniorCitizen     7267 non-null   int64  \n",
      " 4   Partner           7267 non-null   object \n",
      " 5   Dependents        7267 non-null   object \n",
      " 6   tenure            7267 non-null   int64  \n",
      " 7   PhoneService      7267 non-null   object \n",
      " 8   MultipleLines     7267 non-null   object \n",
      " 9   InternetService   7267 non-null   object \n",
      " 10  OnlineSecurity    7267 non-null   object \n",
      " 11  OnlineBackup      7267 non-null   object \n",
      " 12  DeviceProtection  7267 non-null   object \n",
      " 13  TechSupport       7267 non-null   object \n",
      " 14  StreamingTV       7267 non-null   object \n",
      " 15  StreamingMovies   7267 non-null   object \n",
      " 16  Contract          7267 non-null   object \n",
      " 17  PaperlessBilling  7267 non-null   object \n",
      " 18  PaymentMethod     7267 non-null   object \n",
      " 19  Monthly           7267 non-null   float64\n",
      " 20  Total             7267 non-null   object \n",
      "dtypes: float64(1), int64(2), object(18)\n",
      "memory usage: 1.2+ MB\n"
     ]
    }
   ],
   "source": [
    "df_telecom.info()"
   ]
  },
  {
   "cell_type": "markdown",
   "id": "ccaab631",
   "metadata": {},
   "source": [
    "## 3.2 Conversión de columnas"
   ]
  },
  {
   "cell_type": "markdown",
   "id": "2e060fd2",
   "metadata": {},
   "source": [
    "### 3.2.1 Convertir columna ```Churn``` en bool"
   ]
  },
  {
   "cell_type": "code",
   "execution_count": 5,
   "id": "6496be8c",
   "metadata": {},
   "outputs": [
    {
     "data": {
      "text/plain": [
       "dtype('bool')"
      ]
     },
     "execution_count": 5,
     "metadata": {},
     "output_type": "execute_result"
    }
   ],
   "source": [
    "df_telecom['Churn'] = df_telecom['Churn'].map({'Yes':True, 'No':False}).astype(bool)\n",
    "df_telecom['Churn'].dtypes"
   ]
  },
  {
   "cell_type": "markdown",
   "id": "85dcd5ba",
   "metadata": {},
   "source": [
    "### 3.2.2 Convertir columna ```SeniorCitizen``` en bool"
   ]
  },
  {
   "cell_type": "code",
   "execution_count": 6,
   "id": "013e0521",
   "metadata": {},
   "outputs": [
    {
     "data": {
      "text/plain": [
       "dtype('bool')"
      ]
     },
     "execution_count": 6,
     "metadata": {},
     "output_type": "execute_result"
    }
   ],
   "source": [
    "df_telecom['SeniorCitizen'] = df_telecom['SeniorCitizen'].map({0:False, 1:True}).astype(bool)\n",
    "df_telecom['SeniorCitizen'].dtypes"
   ]
  },
  {
   "cell_type": "markdown",
   "id": "27ca1786",
   "metadata": {},
   "source": [
    "### 3.2.3 Convertir el resto de columnas con yes, no en bool\n",
    "```Partner, Dependents, PhoneService, MultipleLines, OnlineBackup, DeviceProtection, TechSupport, StreamingTV, StreamingMovies, PaperlessBilling```"
   ]
  },
  {
   "cell_type": "code",
   "execution_count": 7,
   "id": "80a5f4a4",
   "metadata": {},
   "outputs": [],
   "source": [
    "cols_a_Bool = ['Partner', 'Dependents', 'PhoneService', 'MultipleLines', 'OnlineBackup', \\\n",
    "               'DeviceProtection', 'TechSupport', 'StreamingTV', 'StreamingMovies', 'PaperlessBilling']\n",
    "df_telecom[cols_a_Bool] = df_telecom[cols_a_Bool].map(lambda x: True if x == 'Yes' else False).astype(bool)"
   ]
  },
  {
   "cell_type": "markdown",
   "id": "82e4af3b",
   "metadata": {},
   "source": [
    "### 3.2.4 Convertir columna ```Total``` en float"
   ]
  },
  {
   "cell_type": "code",
   "execution_count": 8,
   "id": "6ca0e6d0",
   "metadata": {},
   "outputs": [
    {
     "data": {
      "text/plain": [
       "dtype('float64')"
      ]
     },
     "execution_count": 8,
     "metadata": {},
     "output_type": "execute_result"
    }
   ],
   "source": [
    "df_telecom['Total'] = pd.to_numeric(df_telecom['Total'], errors='coerce')\n",
    "df_telecom['Total'].dtypes"
   ]
  },
  {
   "cell_type": "markdown",
   "id": "9a08f224",
   "metadata": {},
   "source": [
    "## 3.3 Revisa si hay duplicados"
   ]
  },
  {
   "cell_type": "code",
   "execution_count": 9,
   "id": "36bfca2a",
   "metadata": {},
   "outputs": [
    {
     "data": {
      "text/html": [
       "<div>\n",
       "<style scoped>\n",
       "    .dataframe tbody tr th:only-of-type {\n",
       "        vertical-align: middle;\n",
       "    }\n",
       "\n",
       "    .dataframe tbody tr th {\n",
       "        vertical-align: top;\n",
       "    }\n",
       "\n",
       "    .dataframe thead th {\n",
       "        text-align: right;\n",
       "    }\n",
       "</style>\n",
       "<table border=\"1\" class=\"dataframe\">\n",
       "  <thead>\n",
       "    <tr style=\"text-align: right;\">\n",
       "      <th></th>\n",
       "      <th>customerID</th>\n",
       "      <th>Churn</th>\n",
       "      <th>gender</th>\n",
       "      <th>SeniorCitizen</th>\n",
       "      <th>Partner</th>\n",
       "      <th>Dependents</th>\n",
       "      <th>tenure</th>\n",
       "      <th>PhoneService</th>\n",
       "      <th>MultipleLines</th>\n",
       "      <th>InternetService</th>\n",
       "      <th>...</th>\n",
       "      <th>OnlineBackup</th>\n",
       "      <th>DeviceProtection</th>\n",
       "      <th>TechSupport</th>\n",
       "      <th>StreamingTV</th>\n",
       "      <th>StreamingMovies</th>\n",
       "      <th>Contract</th>\n",
       "      <th>PaperlessBilling</th>\n",
       "      <th>PaymentMethod</th>\n",
       "      <th>Monthly</th>\n",
       "      <th>Total</th>\n",
       "    </tr>\n",
       "  </thead>\n",
       "  <tbody>\n",
       "  </tbody>\n",
       "</table>\n",
       "<p>0 rows × 21 columns</p>\n",
       "</div>"
      ],
      "text/plain": [
       "Empty DataFrame\n",
       "Columns: [customerID, Churn, gender, SeniorCitizen, Partner, Dependents, tenure, PhoneService, MultipleLines, InternetService, OnlineSecurity, OnlineBackup, DeviceProtection, TechSupport, StreamingTV, StreamingMovies, Contract, PaperlessBilling, PaymentMethod, Monthly, Total]\n",
       "Index: []\n",
       "\n",
       "[0 rows x 21 columns]"
      ]
     },
     "execution_count": 9,
     "metadata": {},
     "output_type": "execute_result"
    }
   ],
   "source": [
    "df_telecom[df_telecom.duplicated()]"
   ]
  },
  {
   "cell_type": "markdown",
   "id": "63c3ba76",
   "metadata": {},
   "source": [
    "No hay duplicados"
   ]
  },
  {
   "cell_type": "markdown",
   "id": "1e3e3318",
   "metadata": {},
   "source": [
    "## 3.4 Revisa si hay nulos"
   ]
  },
  {
   "cell_type": "code",
   "execution_count": 10,
   "id": "c0fa27ab",
   "metadata": {},
   "outputs": [
    {
     "data": {
      "text/plain": [
       "customerID           0\n",
       "Churn                0\n",
       "gender               0\n",
       "SeniorCitizen        0\n",
       "Partner              0\n",
       "Dependents           0\n",
       "tenure               0\n",
       "PhoneService         0\n",
       "MultipleLines        0\n",
       "InternetService      0\n",
       "OnlineSecurity       0\n",
       "OnlineBackup         0\n",
       "DeviceProtection     0\n",
       "TechSupport          0\n",
       "StreamingTV          0\n",
       "StreamingMovies      0\n",
       "Contract             0\n",
       "PaperlessBilling     0\n",
       "PaymentMethod        0\n",
       "Monthly              0\n",
       "Total               11\n",
       "dtype: int64"
      ]
     },
     "execution_count": 10,
     "metadata": {},
     "output_type": "execute_result"
    }
   ],
   "source": [
    "df_telecom.isnull().sum()"
   ]
  },
  {
   "cell_type": "code",
   "execution_count": 11,
   "id": "25113eb6",
   "metadata": {},
   "outputs": [
    {
     "data": {
      "text/html": [
       "<div>\n",
       "<style scoped>\n",
       "    .dataframe tbody tr th:only-of-type {\n",
       "        vertical-align: middle;\n",
       "    }\n",
       "\n",
       "    .dataframe tbody tr th {\n",
       "        vertical-align: top;\n",
       "    }\n",
       "\n",
       "    .dataframe thead th {\n",
       "        text-align: right;\n",
       "    }\n",
       "</style>\n",
       "<table border=\"1\" class=\"dataframe\">\n",
       "  <thead>\n",
       "    <tr style=\"text-align: right;\">\n",
       "      <th></th>\n",
       "      <th>customerID</th>\n",
       "      <th>Churn</th>\n",
       "      <th>gender</th>\n",
       "      <th>SeniorCitizen</th>\n",
       "      <th>Partner</th>\n",
       "      <th>Dependents</th>\n",
       "      <th>tenure</th>\n",
       "      <th>PhoneService</th>\n",
       "      <th>MultipleLines</th>\n",
       "      <th>InternetService</th>\n",
       "      <th>...</th>\n",
       "      <th>OnlineBackup</th>\n",
       "      <th>DeviceProtection</th>\n",
       "      <th>TechSupport</th>\n",
       "      <th>StreamingTV</th>\n",
       "      <th>StreamingMovies</th>\n",
       "      <th>Contract</th>\n",
       "      <th>PaperlessBilling</th>\n",
       "      <th>PaymentMethod</th>\n",
       "      <th>Monthly</th>\n",
       "      <th>Total</th>\n",
       "    </tr>\n",
       "  </thead>\n",
       "  <tbody>\n",
       "    <tr>\n",
       "      <th>975</th>\n",
       "      <td>1371-DWPAZ</td>\n",
       "      <td>False</td>\n",
       "      <td>Female</td>\n",
       "      <td>False</td>\n",
       "      <td>True</td>\n",
       "      <td>True</td>\n",
       "      <td>0</td>\n",
       "      <td>False</td>\n",
       "      <td>False</td>\n",
       "      <td>DSL</td>\n",
       "      <td>...</td>\n",
       "      <td>True</td>\n",
       "      <td>True</td>\n",
       "      <td>True</td>\n",
       "      <td>True</td>\n",
       "      <td>False</td>\n",
       "      <td>Two year</td>\n",
       "      <td>False</td>\n",
       "      <td>Credit card (automatic)</td>\n",
       "      <td>56.05</td>\n",
       "      <td>NaN</td>\n",
       "    </tr>\n",
       "    <tr>\n",
       "      <th>1775</th>\n",
       "      <td>2520-SGTTA</td>\n",
       "      <td>False</td>\n",
       "      <td>Female</td>\n",
       "      <td>False</td>\n",
       "      <td>True</td>\n",
       "      <td>True</td>\n",
       "      <td>0</td>\n",
       "      <td>True</td>\n",
       "      <td>False</td>\n",
       "      <td>No</td>\n",
       "      <td>...</td>\n",
       "      <td>False</td>\n",
       "      <td>False</td>\n",
       "      <td>False</td>\n",
       "      <td>False</td>\n",
       "      <td>False</td>\n",
       "      <td>Two year</td>\n",
       "      <td>False</td>\n",
       "      <td>Mailed check</td>\n",
       "      <td>20.00</td>\n",
       "      <td>NaN</td>\n",
       "    </tr>\n",
       "    <tr>\n",
       "      <th>1955</th>\n",
       "      <td>2775-SEFEE</td>\n",
       "      <td>False</td>\n",
       "      <td>Male</td>\n",
       "      <td>False</td>\n",
       "      <td>False</td>\n",
       "      <td>True</td>\n",
       "      <td>0</td>\n",
       "      <td>True</td>\n",
       "      <td>True</td>\n",
       "      <td>DSL</td>\n",
       "      <td>...</td>\n",
       "      <td>True</td>\n",
       "      <td>False</td>\n",
       "      <td>True</td>\n",
       "      <td>False</td>\n",
       "      <td>False</td>\n",
       "      <td>Two year</td>\n",
       "      <td>True</td>\n",
       "      <td>Bank transfer (automatic)</td>\n",
       "      <td>61.90</td>\n",
       "      <td>NaN</td>\n",
       "    </tr>\n",
       "    <tr>\n",
       "      <th>2075</th>\n",
       "      <td>2923-ARZLG</td>\n",
       "      <td>False</td>\n",
       "      <td>Male</td>\n",
       "      <td>False</td>\n",
       "      <td>True</td>\n",
       "      <td>True</td>\n",
       "      <td>0</td>\n",
       "      <td>True</td>\n",
       "      <td>False</td>\n",
       "      <td>No</td>\n",
       "      <td>...</td>\n",
       "      <td>False</td>\n",
       "      <td>False</td>\n",
       "      <td>False</td>\n",
       "      <td>False</td>\n",
       "      <td>False</td>\n",
       "      <td>One year</td>\n",
       "      <td>True</td>\n",
       "      <td>Mailed check</td>\n",
       "      <td>19.70</td>\n",
       "      <td>NaN</td>\n",
       "    </tr>\n",
       "    <tr>\n",
       "      <th>2232</th>\n",
       "      <td>3115-CZMZD</td>\n",
       "      <td>False</td>\n",
       "      <td>Male</td>\n",
       "      <td>False</td>\n",
       "      <td>False</td>\n",
       "      <td>True</td>\n",
       "      <td>0</td>\n",
       "      <td>True</td>\n",
       "      <td>False</td>\n",
       "      <td>No</td>\n",
       "      <td>...</td>\n",
       "      <td>False</td>\n",
       "      <td>False</td>\n",
       "      <td>False</td>\n",
       "      <td>False</td>\n",
       "      <td>False</td>\n",
       "      <td>Two year</td>\n",
       "      <td>False</td>\n",
       "      <td>Mailed check</td>\n",
       "      <td>20.25</td>\n",
       "      <td>NaN</td>\n",
       "    </tr>\n",
       "    <tr>\n",
       "      <th>2308</th>\n",
       "      <td>3213-VVOLG</td>\n",
       "      <td>False</td>\n",
       "      <td>Male</td>\n",
       "      <td>False</td>\n",
       "      <td>True</td>\n",
       "      <td>True</td>\n",
       "      <td>0</td>\n",
       "      <td>True</td>\n",
       "      <td>True</td>\n",
       "      <td>No</td>\n",
       "      <td>...</td>\n",
       "      <td>False</td>\n",
       "      <td>False</td>\n",
       "      <td>False</td>\n",
       "      <td>False</td>\n",
       "      <td>False</td>\n",
       "      <td>Two year</td>\n",
       "      <td>False</td>\n",
       "      <td>Mailed check</td>\n",
       "      <td>25.35</td>\n",
       "      <td>NaN</td>\n",
       "    </tr>\n",
       "    <tr>\n",
       "      <th>2930</th>\n",
       "      <td>4075-WKNIU</td>\n",
       "      <td>False</td>\n",
       "      <td>Female</td>\n",
       "      <td>False</td>\n",
       "      <td>True</td>\n",
       "      <td>True</td>\n",
       "      <td>0</td>\n",
       "      <td>True</td>\n",
       "      <td>True</td>\n",
       "      <td>DSL</td>\n",
       "      <td>...</td>\n",
       "      <td>True</td>\n",
       "      <td>True</td>\n",
       "      <td>True</td>\n",
       "      <td>True</td>\n",
       "      <td>False</td>\n",
       "      <td>Two year</td>\n",
       "      <td>False</td>\n",
       "      <td>Mailed check</td>\n",
       "      <td>73.35</td>\n",
       "      <td>NaN</td>\n",
       "    </tr>\n",
       "    <tr>\n",
       "      <th>3134</th>\n",
       "      <td>4367-NUYAO</td>\n",
       "      <td>False</td>\n",
       "      <td>Male</td>\n",
       "      <td>False</td>\n",
       "      <td>True</td>\n",
       "      <td>True</td>\n",
       "      <td>0</td>\n",
       "      <td>True</td>\n",
       "      <td>True</td>\n",
       "      <td>No</td>\n",
       "      <td>...</td>\n",
       "      <td>False</td>\n",
       "      <td>False</td>\n",
       "      <td>False</td>\n",
       "      <td>False</td>\n",
       "      <td>False</td>\n",
       "      <td>Two year</td>\n",
       "      <td>False</td>\n",
       "      <td>Mailed check</td>\n",
       "      <td>25.75</td>\n",
       "      <td>NaN</td>\n",
       "    </tr>\n",
       "    <tr>\n",
       "      <th>3203</th>\n",
       "      <td>4472-LVYGI</td>\n",
       "      <td>False</td>\n",
       "      <td>Female</td>\n",
       "      <td>False</td>\n",
       "      <td>True</td>\n",
       "      <td>True</td>\n",
       "      <td>0</td>\n",
       "      <td>False</td>\n",
       "      <td>False</td>\n",
       "      <td>DSL</td>\n",
       "      <td>...</td>\n",
       "      <td>False</td>\n",
       "      <td>True</td>\n",
       "      <td>True</td>\n",
       "      <td>True</td>\n",
       "      <td>False</td>\n",
       "      <td>Two year</td>\n",
       "      <td>True</td>\n",
       "      <td>Bank transfer (automatic)</td>\n",
       "      <td>52.55</td>\n",
       "      <td>NaN</td>\n",
       "    </tr>\n",
       "    <tr>\n",
       "      <th>4169</th>\n",
       "      <td>5709-LVOEQ</td>\n",
       "      <td>False</td>\n",
       "      <td>Female</td>\n",
       "      <td>False</td>\n",
       "      <td>True</td>\n",
       "      <td>True</td>\n",
       "      <td>0</td>\n",
       "      <td>True</td>\n",
       "      <td>False</td>\n",
       "      <td>DSL</td>\n",
       "      <td>...</td>\n",
       "      <td>True</td>\n",
       "      <td>True</td>\n",
       "      <td>False</td>\n",
       "      <td>True</td>\n",
       "      <td>True</td>\n",
       "      <td>Two year</td>\n",
       "      <td>False</td>\n",
       "      <td>Mailed check</td>\n",
       "      <td>80.85</td>\n",
       "      <td>NaN</td>\n",
       "    </tr>\n",
       "    <tr>\n",
       "      <th>5599</th>\n",
       "      <td>7644-OMVMY</td>\n",
       "      <td>False</td>\n",
       "      <td>Male</td>\n",
       "      <td>False</td>\n",
       "      <td>True</td>\n",
       "      <td>True</td>\n",
       "      <td>0</td>\n",
       "      <td>True</td>\n",
       "      <td>False</td>\n",
       "      <td>No</td>\n",
       "      <td>...</td>\n",
       "      <td>False</td>\n",
       "      <td>False</td>\n",
       "      <td>False</td>\n",
       "      <td>False</td>\n",
       "      <td>False</td>\n",
       "      <td>Two year</td>\n",
       "      <td>False</td>\n",
       "      <td>Mailed check</td>\n",
       "      <td>19.85</td>\n",
       "      <td>NaN</td>\n",
       "    </tr>\n",
       "  </tbody>\n",
       "</table>\n",
       "<p>11 rows × 21 columns</p>\n",
       "</div>"
      ],
      "text/plain": [
       "      customerID  Churn  gender  SeniorCitizen  Partner  Dependents  tenure  \\\n",
       "975   1371-DWPAZ  False  Female          False     True        True       0   \n",
       "1775  2520-SGTTA  False  Female          False     True        True       0   \n",
       "1955  2775-SEFEE  False    Male          False    False        True       0   \n",
       "2075  2923-ARZLG  False    Male          False     True        True       0   \n",
       "2232  3115-CZMZD  False    Male          False    False        True       0   \n",
       "2308  3213-VVOLG  False    Male          False     True        True       0   \n",
       "2930  4075-WKNIU  False  Female          False     True        True       0   \n",
       "3134  4367-NUYAO  False    Male          False     True        True       0   \n",
       "3203  4472-LVYGI  False  Female          False     True        True       0   \n",
       "4169  5709-LVOEQ  False  Female          False     True        True       0   \n",
       "5599  7644-OMVMY  False    Male          False     True        True       0   \n",
       "\n",
       "      PhoneService  MultipleLines InternetService  ... OnlineBackup  \\\n",
       "975          False          False             DSL  ...         True   \n",
       "1775          True          False              No  ...        False   \n",
       "1955          True           True             DSL  ...         True   \n",
       "2075          True          False              No  ...        False   \n",
       "2232          True          False              No  ...        False   \n",
       "2308          True           True              No  ...        False   \n",
       "2930          True           True             DSL  ...         True   \n",
       "3134          True           True              No  ...        False   \n",
       "3203         False          False             DSL  ...        False   \n",
       "4169          True          False             DSL  ...         True   \n",
       "5599          True          False              No  ...        False   \n",
       "\n",
       "      DeviceProtection  TechSupport  StreamingTV  StreamingMovies  Contract  \\\n",
       "975               True         True         True            False  Two year   \n",
       "1775             False        False        False            False  Two year   \n",
       "1955             False         True        False            False  Two year   \n",
       "2075             False        False        False            False  One year   \n",
       "2232             False        False        False            False  Two year   \n",
       "2308             False        False        False            False  Two year   \n",
       "2930              True         True         True            False  Two year   \n",
       "3134             False        False        False            False  Two year   \n",
       "3203              True         True         True            False  Two year   \n",
       "4169              True        False         True             True  Two year   \n",
       "5599             False        False        False            False  Two year   \n",
       "\n",
       "     PaperlessBilling              PaymentMethod Monthly  Total  \n",
       "975             False    Credit card (automatic)   56.05    NaN  \n",
       "1775            False               Mailed check   20.00    NaN  \n",
       "1955             True  Bank transfer (automatic)   61.90    NaN  \n",
       "2075             True               Mailed check   19.70    NaN  \n",
       "2232            False               Mailed check   20.25    NaN  \n",
       "2308            False               Mailed check   25.35    NaN  \n",
       "2930            False               Mailed check   73.35    NaN  \n",
       "3134            False               Mailed check   25.75    NaN  \n",
       "3203             True  Bank transfer (automatic)   52.55    NaN  \n",
       "4169            False               Mailed check   80.85    NaN  \n",
       "5599            False               Mailed check   19.85    NaN  \n",
       "\n",
       "[11 rows x 21 columns]"
      ]
     },
     "execution_count": 11,
     "metadata": {},
     "output_type": "execute_result"
    }
   ],
   "source": [
    "df_telecom[df_telecom['Total'].isnull()]"
   ]
  },
  {
   "cell_type": "code",
   "execution_count": 12,
   "id": "67cfd9b8",
   "metadata": {},
   "outputs": [
    {
     "data": {
      "text/plain": [
       "customerID          0\n",
       "Churn               0\n",
       "gender              0\n",
       "SeniorCitizen       0\n",
       "Partner             0\n",
       "Dependents          0\n",
       "tenure              0\n",
       "PhoneService        0\n",
       "MultipleLines       0\n",
       "InternetService     0\n",
       "OnlineSecurity      0\n",
       "OnlineBackup        0\n",
       "DeviceProtection    0\n",
       "TechSupport         0\n",
       "StreamingTV         0\n",
       "StreamingMovies     0\n",
       "Contract            0\n",
       "PaperlessBilling    0\n",
       "PaymentMethod       0\n",
       "Monthly             0\n",
       "Total               0\n",
       "dtype: int64"
      ]
     },
     "execution_count": 12,
     "metadata": {},
     "output_type": "execute_result"
    }
   ],
   "source": [
    "df_telecom.dropna(inplace=True)\n",
    "df_telecom.isna().sum()"
   ]
  },
  {
   "cell_type": "markdown",
   "id": "b3b4627a",
   "metadata": {},
   "source": [
    "## 3.4 Creación columna ```Cuentas_diarias```"
   ]
  },
  {
   "cell_type": "code",
   "execution_count": 13,
   "id": "3658e163",
   "metadata": {},
   "outputs": [
    {
     "data": {
      "text/html": [
       "<div>\n",
       "<style scoped>\n",
       "    .dataframe tbody tr th:only-of-type {\n",
       "        vertical-align: middle;\n",
       "    }\n",
       "\n",
       "    .dataframe tbody tr th {\n",
       "        vertical-align: top;\n",
       "    }\n",
       "\n",
       "    .dataframe thead th {\n",
       "        text-align: right;\n",
       "    }\n",
       "</style>\n",
       "<table border=\"1\" class=\"dataframe\">\n",
       "  <thead>\n",
       "    <tr style=\"text-align: right;\">\n",
       "      <th></th>\n",
       "      <th>Monthly</th>\n",
       "      <th>Cuentas_diarias</th>\n",
       "    </tr>\n",
       "  </thead>\n",
       "  <tbody>\n",
       "    <tr>\n",
       "      <th>0</th>\n",
       "      <td>65.60</td>\n",
       "      <td>2.19</td>\n",
       "    </tr>\n",
       "    <tr>\n",
       "      <th>1</th>\n",
       "      <td>59.90</td>\n",
       "      <td>2.00</td>\n",
       "    </tr>\n",
       "    <tr>\n",
       "      <th>2</th>\n",
       "      <td>73.90</td>\n",
       "      <td>2.46</td>\n",
       "    </tr>\n",
       "    <tr>\n",
       "      <th>3</th>\n",
       "      <td>98.00</td>\n",
       "      <td>3.27</td>\n",
       "    </tr>\n",
       "    <tr>\n",
       "      <th>4</th>\n",
       "      <td>83.90</td>\n",
       "      <td>2.80</td>\n",
       "    </tr>\n",
       "    <tr>\n",
       "      <th>...</th>\n",
       "      <td>...</td>\n",
       "      <td>...</td>\n",
       "    </tr>\n",
       "    <tr>\n",
       "      <th>7262</th>\n",
       "      <td>55.15</td>\n",
       "      <td>1.84</td>\n",
       "    </tr>\n",
       "    <tr>\n",
       "      <th>7263</th>\n",
       "      <td>85.10</td>\n",
       "      <td>2.84</td>\n",
       "    </tr>\n",
       "    <tr>\n",
       "      <th>7264</th>\n",
       "      <td>50.30</td>\n",
       "      <td>1.68</td>\n",
       "    </tr>\n",
       "    <tr>\n",
       "      <th>7265</th>\n",
       "      <td>67.85</td>\n",
       "      <td>2.26</td>\n",
       "    </tr>\n",
       "    <tr>\n",
       "      <th>7266</th>\n",
       "      <td>59.00</td>\n",
       "      <td>1.97</td>\n",
       "    </tr>\n",
       "  </tbody>\n",
       "</table>\n",
       "<p>7256 rows × 2 columns</p>\n",
       "</div>"
      ],
      "text/plain": [
       "      Monthly  Cuentas_diarias\n",
       "0       65.60             2.19\n",
       "1       59.90             2.00\n",
       "2       73.90             2.46\n",
       "3       98.00             3.27\n",
       "4       83.90             2.80\n",
       "...       ...              ...\n",
       "7262    55.15             1.84\n",
       "7263    85.10             2.84\n",
       "7264    50.30             1.68\n",
       "7265    67.85             2.26\n",
       "7266    59.00             1.97\n",
       "\n",
       "[7256 rows x 2 columns]"
      ]
     },
     "execution_count": 13,
     "metadata": {},
     "output_type": "execute_result"
    }
   ],
   "source": [
    "df_telecom['Cuentas_diarias'] = round(df_telecom['Monthly']/30, 2)\n",
    "df_telecom[['Monthly', 'Cuentas_diarias']]"
   ]
  },
  {
   "cell_type": "markdown",
   "id": "e05573fa",
   "metadata": {},
   "source": [
    "# 4. Carga y análisis"
   ]
  },
  {
   "cell_type": "markdown",
   "id": "72808de9",
   "metadata": {},
   "source": [
    "## 4.1 Análisis descriptivo"
   ]
  },
  {
   "cell_type": "code",
   "execution_count": 14,
   "id": "4000c5a3",
   "metadata": {},
   "outputs": [
    {
     "data": {
      "text/html": [
       "<div>\n",
       "<style scoped>\n",
       "    .dataframe tbody tr th:only-of-type {\n",
       "        vertical-align: middle;\n",
       "    }\n",
       "\n",
       "    .dataframe tbody tr th {\n",
       "        vertical-align: top;\n",
       "    }\n",
       "\n",
       "    .dataframe thead th {\n",
       "        text-align: right;\n",
       "    }\n",
       "</style>\n",
       "<table border=\"1\" class=\"dataframe\">\n",
       "  <thead>\n",
       "    <tr style=\"text-align: right;\">\n",
       "      <th></th>\n",
       "      <th>tenure</th>\n",
       "      <th>Monthly</th>\n",
       "      <th>Total</th>\n",
       "      <th>Cuentas_diarias</th>\n",
       "    </tr>\n",
       "  </thead>\n",
       "  <tbody>\n",
       "    <tr>\n",
       "      <th>count</th>\n",
       "      <td>7256.000000</td>\n",
       "      <td>7256.000000</td>\n",
       "      <td>7256.000000</td>\n",
       "      <td>7256.000000</td>\n",
       "    </tr>\n",
       "    <tr>\n",
       "      <th>mean</th>\n",
       "      <td>32.395535</td>\n",
       "      <td>64.755423</td>\n",
       "      <td>2280.634213</td>\n",
       "      <td>2.158467</td>\n",
       "    </tr>\n",
       "    <tr>\n",
       "      <th>std</th>\n",
       "      <td>24.558067</td>\n",
       "      <td>30.125739</td>\n",
       "      <td>2268.632997</td>\n",
       "      <td>1.004282</td>\n",
       "    </tr>\n",
       "    <tr>\n",
       "      <th>min</th>\n",
       "      <td>1.000000</td>\n",
       "      <td>18.250000</td>\n",
       "      <td>18.800000</td>\n",
       "      <td>0.610000</td>\n",
       "    </tr>\n",
       "    <tr>\n",
       "      <th>25%</th>\n",
       "      <td>9.000000</td>\n",
       "      <td>35.450000</td>\n",
       "      <td>400.225000</td>\n",
       "      <td>1.180000</td>\n",
       "    </tr>\n",
       "    <tr>\n",
       "      <th>50%</th>\n",
       "      <td>29.000000</td>\n",
       "      <td>70.300000</td>\n",
       "      <td>1391.000000</td>\n",
       "      <td>2.340000</td>\n",
       "    </tr>\n",
       "    <tr>\n",
       "      <th>75%</th>\n",
       "      <td>55.000000</td>\n",
       "      <td>89.900000</td>\n",
       "      <td>3785.300000</td>\n",
       "      <td>3.000000</td>\n",
       "    </tr>\n",
       "    <tr>\n",
       "      <th>max</th>\n",
       "      <td>72.000000</td>\n",
       "      <td>118.750000</td>\n",
       "      <td>8684.800000</td>\n",
       "      <td>3.960000</td>\n",
       "    </tr>\n",
       "  </tbody>\n",
       "</table>\n",
       "</div>"
      ],
      "text/plain": [
       "            tenure      Monthly        Total  Cuentas_diarias\n",
       "count  7256.000000  7256.000000  7256.000000      7256.000000\n",
       "mean     32.395535    64.755423  2280.634213         2.158467\n",
       "std      24.558067    30.125739  2268.632997         1.004282\n",
       "min       1.000000    18.250000    18.800000         0.610000\n",
       "25%       9.000000    35.450000   400.225000         1.180000\n",
       "50%      29.000000    70.300000  1391.000000         2.340000\n",
       "75%      55.000000    89.900000  3785.300000         3.000000\n",
       "max      72.000000   118.750000  8684.800000         3.960000"
      ]
     },
     "execution_count": 14,
     "metadata": {},
     "output_type": "execute_result"
    }
   ],
   "source": [
    "df_telecom.describe()"
   ]
  },
  {
   "cell_type": "markdown",
   "id": "266f8a0a",
   "metadata": {},
   "source": [
    "## 4.2 Distribución de evasión\n",
    "\n",
    "En este paso, el objetivo es comprender cómo está distribuida la variable \"churn\" (evasión) entre los clientes. Utiliza gráficos para visualizar la proporción de clientes que permanecieron y los que se dieron de baja."
   ]
  },
  {
   "cell_type": "code",
   "execution_count": 15,
   "id": "83f73aad",
   "metadata": {},
   "outputs": [
    {
     "data": {
      "image/png": "[encoded data removed]",
      "text/plain": [
       "<Figure size 800x600 with 1 Axes>"
      ]
     },
     "metadata": {},
     "output_type": "display_data"
    }
   ],
   "source": [
    "etiquetas = {True: 'Permanece', False: 'No permanece'}\n",
    "col_Churn = df_telecom['Churn'].map(etiquetas)\n",
    "\n",
    "fig, ax = plt.subplots(figsize=(8, 6))\n",
    "ax.pie(col_Churn.value_counts(),labels=col_Churn.value_counts().index, autopct='%1.1f%%')\n",
    "\n",
    "ax.set_title('Porcentaje de clientes que permanecen en la empresa')\n",
    "\n",
    "plt.show()"
   ]
  },
  {
   "cell_type": "markdown",
   "id": "1820aa4f",
   "metadata": {},
   "source": [
    "### 4.2.1 Distribución de evasión por género"
   ]
  },
  {
   "cell_type": "code",
   "execution_count": 16,
   "id": "50884b36",
   "metadata": {},
   "outputs": [
    {
     "data": {
      "text/plain": [
       "Churn  gender\n",
       "False  Male      2619\n",
       "       Female    2544\n",
       "True   Male      1050\n",
       "       Female    1043\n",
       "Name: count, dtype: int64"
      ]
     },
     "execution_count": 16,
     "metadata": {},
     "output_type": "execute_result"
    }
   ],
   "source": [
    "col_Churn_genero = df_telecom.groupby('Churn')['gender'].value_counts()\n",
    "col_Churn_genero"
   ]
  },
  {
   "cell_type": "code",
   "execution_count": 17,
   "id": "9d5eca40",
   "metadata": {},
   "outputs": [
    {
     "data": {
      "text/plain": [
       "<function matplotlib.pyplot.show(close=None, block=None)>"
      ]
     },
     "execution_count": 17,
     "metadata": {},
     "output_type": "execute_result"
    },
    {
     "data": {
      "image/png": "[encoded data removed]",
      "text/plain": [
       "<Figure size 1200x600 with 2 Axes>"
      ]
     },
     "metadata": {},
     "output_type": "display_data"
    }
   ],
   "source": [
    "churn_false_data = col_Churn_genero.loc[False]\n",
    "churn_true_data = col_Churn_genero.loc[True]\n",
    "\n",
    "fig, ax = plt.subplots(nrows=1, ncols=2, figsize=(12,6))\n",
    "fig.suptitle('Porcentaje por género de los clientes que: ', fontsize=14)\n",
    "\n",
    "ax[0].set_title('No permanecen en la empresa')\n",
    "ax[0].pie(churn_false_data,labels=churn_false_data.index, autopct='%.2f%%')\n",
    "\n",
    "ax[1].set_title('Si permanecen en la empresa')\n",
    "ax[1].pie(churn_true_data, labels=churn_true_data.index, autopct='%.2f%%')\n",
    "\n",
    "plt.show"
   ]
  },
  {
   "cell_type": "markdown",
   "id": "12d9ec72",
   "metadata": {},
   "source": [
    "### 4.2.2 Distribución de evasión por ```tipo de contrato (Contract)```"
   ]
  },
  {
   "cell_type": "code",
   "execution_count": 33,
   "id": "2292b6a8",
   "metadata": {},
   "outputs": [
    {
     "data": {
      "text/html": [
       "<div>\n",
       "<style scoped>\n",
       "    .dataframe tbody tr th:only-of-type {\n",
       "        vertical-align: middle;\n",
       "    }\n",
       "\n",
       "    .dataframe tbody tr th {\n",
       "        vertical-align: top;\n",
       "    }\n",
       "\n",
       "    .dataframe thead th {\n",
       "        text-align: right;\n",
       "    }\n",
       "</style>\n",
       "<table border=\"1\" class=\"dataframe\">\n",
       "  <thead>\n",
       "    <tr style=\"text-align: right;\">\n",
       "      <th>Churn</th>\n",
       "      <th>False</th>\n",
       "      <th>True</th>\n",
       "    </tr>\n",
       "    <tr>\n",
       "      <th>Contract</th>\n",
       "      <th></th>\n",
       "      <th></th>\n",
       "    </tr>\n",
       "  </thead>\n",
       "  <tbody>\n",
       "    <tr>\n",
       "      <th>Month-to-month</th>\n",
       "      <td>2220</td>\n",
       "      <td>1785</td>\n",
       "    </tr>\n",
       "    <tr>\n",
       "      <th>One year</th>\n",
       "      <td>1306</td>\n",
       "      <td>212</td>\n",
       "    </tr>\n",
       "    <tr>\n",
       "      <th>Two year</th>\n",
       "      <td>1637</td>\n",
       "      <td>96</td>\n",
       "    </tr>\n",
       "  </tbody>\n",
       "</table>\n",
       "</div>"
      ],
      "text/plain": [
       "Churn           False  True \n",
       "Contract                    \n",
       "Month-to-month   2220   1785\n",
       "One year         1306    212\n",
       "Two year         1637     96"
      ]
     },
     "execution_count": 33,
     "metadata": {},
     "output_type": "execute_result"
    }
   ],
   "source": [
    "col_churn_contrato = df_telecom.groupby('Contract')['Churn'].value_counts().unstack()\n",
    "col_churn_contrato\n"
   ]
  },
  {
   "cell_type": "code",
   "execution_count": 36,
   "id": "15cbced2",
   "metadata": {},
   "outputs": [
    {
     "data": {
      "image/png": "[encoded data removed]",
      "text/plain": [
       "<Figure size 800x600 with 1 Axes>"
      ]
     },
     "metadata": {},
     "output_type": "display_data"
    }
   ],
   "source": [
    "col_churn_contrato.plot(kind='bar', figsize=(8,6))\n",
    "\n",
    "plt.title('Comparación de tipo de contrato por estado de Churn')\n",
    "plt.xlabel('Churn')\n",
    "plt.ylabel('Cantidad')\n",
    "plt.legend(title='Churn', labels=['No (False)', 'Sí (True)'])\n",
    "plt.legend(title='Tipo de contrato', labels=['No permanece', 'Sí permanece'])\n",
    "plt.tight_layout()\n",
    "plt.show()"
   ]
  },
  {
   "cell_type": "markdown",
   "id": "b39c1c29",
   "metadata": {},
   "source": [
    "### 4.2.3 Distribución de evasión por ```método de pago (PaymentMethod)```"
   ]
  },
  {
   "cell_type": "code",
   "execution_count": 51,
   "id": "fd4c94d6",
   "metadata": {},
   "outputs": [
    {
     "data": {
      "text/html": [
       "<div>\n",
       "<style scoped>\n",
       "    .dataframe tbody tr th:only-of-type {\n",
       "        vertical-align: middle;\n",
       "    }\n",
       "\n",
       "    .dataframe tbody tr th {\n",
       "        vertical-align: top;\n",
       "    }\n",
       "\n",
       "    .dataframe thead th {\n",
       "        text-align: right;\n",
       "    }\n",
       "</style>\n",
       "<table border=\"1\" class=\"dataframe\">\n",
       "  <thead>\n",
       "    <tr style=\"text-align: right;\">\n",
       "      <th>Churn</th>\n",
       "      <th>False</th>\n",
       "      <th>True</th>\n",
       "    </tr>\n",
       "    <tr>\n",
       "      <th>PaymentMethod</th>\n",
       "      <th></th>\n",
       "      <th></th>\n",
       "    </tr>\n",
       "  </thead>\n",
       "  <tbody>\n",
       "    <tr>\n",
       "      <th>Bank transfer (automatic)</th>\n",
       "      <td>1284</td>\n",
       "      <td>303</td>\n",
       "    </tr>\n",
       "    <tr>\n",
       "      <th>Credit card (automatic)</th>\n",
       "      <td>1289</td>\n",
       "      <td>278</td>\n",
       "    </tr>\n",
       "    <tr>\n",
       "      <th>Electronic check</th>\n",
       "      <td>1294</td>\n",
       "      <td>1151</td>\n",
       "    </tr>\n",
       "    <tr>\n",
       "      <th>Mailed check</th>\n",
       "      <td>1296</td>\n",
       "      <td>361</td>\n",
       "    </tr>\n",
       "  </tbody>\n",
       "</table>\n",
       "</div>"
      ],
      "text/plain": [
       "Churn                      False  True \n",
       "PaymentMethod                          \n",
       "Bank transfer (automatic)   1284    303\n",
       "Credit card (automatic)     1289    278\n",
       "Electronic check            1294   1151\n",
       "Mailed check                1296    361"
      ]
     },
     "execution_count": 51,
     "metadata": {},
     "output_type": "execute_result"
    }
   ],
   "source": [
    "col_churn_payment = df_telecom.groupby('PaymentMethod')['Churn'].value_counts().unstack()\n",
    "col_churn_payment"
   ]
  },
  {
   "cell_type": "code",
   "execution_count": 52,
   "id": "9b93d709",
   "metadata": {},
   "outputs": [
    {
     "data": {
      "image/png": "[encoded data removed]",
      "text/plain": [
       "<Figure size 800x600 with 1 Axes>"
      ]
     },
     "metadata": {},
     "output_type": "display_data"
    }
   ],
   "source": [
    "col_churn_payment.plot(kind='barh', figsize=(8,6))\n",
    "\n",
    "plt.title('Cantidad de evasión(permanencia) por método de pago', fontsize=14)\n",
    "plt.ylabel('Método de pago')\n",
    "plt.xlabel('Cantidad de clientes')\n",
    "plt.legend(labels=('No permanece', 'Sí permanece'))\n",
    "\n",
    "plt.show()"
   ]
  },
  {
   "cell_type": "markdown",
   "id": "f106600f",
   "metadata": {},
   "source": [
    "# 5. Informe final"
   ]
  }
 ],
 "metadata": {
  "kernelspec": {
   "display_name": "Python 3",
   "language": "python",
   "name": "python3"
  },
  "language_info": {
   "codemirror_mode": {
    "name": "ipython",
    "version": 3
   },
   "file_extension": ".py",
   "mimetype": "text/x-python",
   "name": "python",
   "nbconvert_exporter": "python",
   "pygments_lexer": "ipython3",
   "version": "3.12.2"
  }
 },
 "nbformat": 4,
 "nbformat_minor": 5
}
